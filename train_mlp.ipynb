{
 "cells": [
  {
   "cell_type": "code",
   "execution_count": 5,
   "metadata": {},
   "outputs": [],
   "source": [
    "import numpy as np\n",
    "from tensorflow.keras.layers import Dense, Activation, Input\n",
    "from tensorflow.keras.models import Model"
   ]
  },
  {
   "cell_type": "code",
   "execution_count": 7,
   "metadata": {},
   "outputs": [
    {
     "name": "stdout",
     "output_type": "stream",
     "text": [
      "(1198, 15) (1198,)\n"
     ]
    }
   ],
   "source": [
    "data = np.loadtxt('train.csv', delimiter=',')\n",
    "\n",
    "angle = data[:,:-1].astype(np.float32)\n",
    "label = data[:, -1].astype(np.float32)\n",
    "\n",
    "print(angle.shape, label.shape)"
   ]
  },
  {
   "cell_type": "code",
   "execution_count": 37,
   "metadata": {},
   "outputs": [
    {
     "name": "stdout",
     "output_type": "stream",
     "text": [
      "(1198, 26)\n"
     ]
    }
   ],
   "source": [
    "from sklearn.preprocessing import OneHotEncoder\n",
    "\n",
    "ohe = OneHotEncoder()\n",
    "\n",
    "encoded_label = ohe.fit_transform(label.reshape(-1, 1)).toarray()\n",
    "encoded_label = encoded_label.astype(np.float32)\n",
    "\n",
    "print(encoded_label.shape)"
   ]
  },
  {
   "cell_type": "code",
   "execution_count": 46,
   "metadata": {},
   "outputs": [
    {
     "data": {
      "text/plain": [
       "[array([ 0.,  1.,  2.,  3.,  4.,  5.,  6.,  7.,  8.,  9., 10., 11., 12.,\n",
       "        13., 14., 15., 16., 17., 18., 19., 20., 21., 22., 23., 24., 25.],\n",
       "       dtype=float32)]"
      ]
     },
     "execution_count": 46,
     "metadata": {},
     "output_type": "execute_result"
    }
   ],
   "source": [
    "ohe.categories_"
   ]
  },
  {
   "cell_type": "code",
   "execution_count": 43,
   "metadata": {},
   "outputs": [
    {
     "name": "stdout",
     "output_type": "stream",
     "text": [
      "Model: \"model_5\"\n",
      "_________________________________________________________________\n",
      "Layer (type)                 Output Shape              Param #   \n",
      "=================================================================\n",
      "input_6 (InputLayer)         [(None, 15)]              0         \n",
      "_________________________________________________________________\n",
      "dense_20 (Dense)             (None, 32)                512       \n",
      "_________________________________________________________________\n",
      "dense_21 (Dense)             (None, 64)                2112      \n",
      "_________________________________________________________________\n",
      "dense_22 (Dense)             (None, 128)               8320      \n",
      "_________________________________________________________________\n",
      "dense_23 (Dense)             (None, 64)                8256      \n",
      "_________________________________________________________________\n",
      "dense_24 (Dense)             (None, 32)                2080      \n",
      "_________________________________________________________________\n",
      "dense_25 (Dense)             (None, 26)                858       \n",
      "=================================================================\n",
      "Total params: 22,138\n",
      "Trainable params: 22,138\n",
      "Non-trainable params: 0\n",
      "_________________________________________________________________\n"
     ]
    }
   ],
   "source": [
    "input = Input(shape=(15,))\n",
    "\n",
    "x = Dense(32, activation='relu')(input)\n",
    "x = Dense(64, activation='relu')(x)\n",
    "x = Dense(128, activation='relu')(x)\n",
    "x = Dense(64, activation='relu')(x)\n",
    "x = Dense(32, activation='relu')(x)\n",
    "\n",
    "output = Dense(26, activation='softmax')(x)\n",
    "\n",
    "model = Model(inputs=input, outputs=output)\n",
    "model.compile(optimizer='adam', loss='categorical_crossentropy', metrics=['acc'])\n",
    "model.summary()"
   ]
  },
  {
   "cell_type": "code",
   "execution_count": 44,
   "metadata": {},
   "outputs": [
    {
     "name": "stdout",
     "output_type": "stream",
     "text": [
      "Epoch 1/100\n",
      "38/38 [==============================] - 0s 1ms/step - loss: 4.9620 - acc: 0.0962\n",
      "Epoch 2/100\n",
      "38/38 [==============================] - 0s 894us/step - loss: 2.3613 - acc: 0.3541\n",
      "Epoch 3/100\n",
      "38/38 [==============================] - 0s 869us/step - loss: 1.8337 - acc: 0.4686\n",
      "Epoch 4/100\n",
      "38/38 [==============================] - 0s 868us/step - loss: 1.5036 - acc: 0.5653\n",
      "Epoch 5/100\n",
      "38/38 [==============================] - 0s 842us/step - loss: 1.2988 - acc: 0.6310\n",
      "Epoch 6/100\n",
      "38/38 [==============================] - 0s 871us/step - loss: 1.1945 - acc: 0.6438\n",
      "Epoch 7/100\n",
      "38/38 [==============================] - 0s 869us/step - loss: 1.0217 - acc: 0.6886\n",
      "Epoch 8/100\n",
      "38/38 [==============================] - 0s 845us/step - loss: 1.0557 - acc: 0.6747\n",
      "Epoch 9/100\n",
      "38/38 [==============================] - 0s 863us/step - loss: 1.0322 - acc: 0.6893\n",
      "Epoch 10/100\n",
      "38/38 [==============================] - 0s 865us/step - loss: 0.9911 - acc: 0.7056\n",
      "Epoch 11/100\n",
      "38/38 [==============================] - 0s 890us/step - loss: 0.8982 - acc: 0.7335\n",
      "Epoch 12/100\n",
      "38/38 [==============================] - 0s 892us/step - loss: 0.8540 - acc: 0.7356\n",
      "Epoch 13/100\n",
      "38/38 [==============================] - 0s 868us/step - loss: 0.8323 - acc: 0.7308\n",
      "Epoch 14/100\n",
      "38/38 [==============================] - 0s 831us/step - loss: 0.8575 - acc: 0.7415\n",
      "Epoch 15/100\n",
      "38/38 [==============================] - 0s 838us/step - loss: 0.7672 - acc: 0.7597\n",
      "Epoch 16/100\n",
      "38/38 [==============================] - 0s 858us/step - loss: 0.6869 - acc: 0.7956\n",
      "Epoch 17/100\n",
      "38/38 [==============================] - 0s 833us/step - loss: 0.6715 - acc: 0.7861\n",
      "Epoch 18/100\n",
      "38/38 [==============================] - 0s 797us/step - loss: 0.6949 - acc: 0.7797\n",
      "Epoch 19/100\n",
      "38/38 [==============================] - 0s 813us/step - loss: 0.6063 - acc: 0.8181\n",
      "Epoch 20/100\n",
      "38/38 [==============================] - 0s 968us/step - loss: 0.5655 - acc: 0.8291\n",
      "Epoch 21/100\n",
      "38/38 [==============================] - 0s 876us/step - loss: 0.5433 - acc: 0.8231\n",
      "Epoch 22/100\n",
      "38/38 [==============================] - 0s 788us/step - loss: 0.5857 - acc: 0.8277\n",
      "Epoch 23/100\n",
      "38/38 [==============================] - 0s 750us/step - loss: 0.5215 - acc: 0.8265\n",
      "Epoch 24/100\n",
      "38/38 [==============================] - 0s 826us/step - loss: 0.5189 - acc: 0.8340\n",
      "Epoch 25/100\n",
      "38/38 [==============================] - 0s 791us/step - loss: 0.4564 - acc: 0.8524\n",
      "Epoch 26/100\n",
      "38/38 [==============================] - 0s 852us/step - loss: 0.4552 - acc: 0.8599\n",
      "Epoch 27/100\n",
      "38/38 [==============================] - 0s 755us/step - loss: 0.4291 - acc: 0.8649\n",
      "Epoch 28/100\n",
      "38/38 [==============================] - 0s 817us/step - loss: 0.3565 - acc: 0.8907\n",
      "Epoch 29/100\n",
      "38/38 [==============================] - 0s 940us/step - loss: 0.3662 - acc: 0.8904\n",
      "Epoch 30/100\n",
      "38/38 [==============================] - 0s 964us/step - loss: 0.3491 - acc: 0.8781\n",
      "Epoch 31/100\n",
      "38/38 [==============================] - 0s 926us/step - loss: 0.3377 - acc: 0.8904\n",
      "Epoch 32/100\n",
      "38/38 [==============================] - 0s 904us/step - loss: 0.2995 - acc: 0.9038\n",
      "Epoch 33/100\n",
      "38/38 [==============================] - 0s 1ms/step - loss: 0.2605 - acc: 0.9113\n",
      "Epoch 34/100\n",
      "38/38 [==============================] - 0s 797us/step - loss: 0.2414 - acc: 0.9219\n",
      "Epoch 35/100\n",
      "38/38 [==============================] - 0s 891us/step - loss: 0.2489 - acc: 0.9262\n",
      "Epoch 36/100\n",
      "38/38 [==============================] - 0s 873us/step - loss: 0.2436 - acc: 0.9265\n",
      "Epoch 37/100\n",
      "38/38 [==============================] - 0s 864us/step - loss: 0.2415 - acc: 0.9330\n",
      "Epoch 38/100\n",
      "38/38 [==============================] - 0s 907us/step - loss: 0.2193 - acc: 0.9334\n",
      "Epoch 39/100\n",
      "38/38 [==============================] - 0s 882us/step - loss: 0.1847 - acc: 0.9525\n",
      "Epoch 40/100\n",
      "38/38 [==============================] - 0s 931us/step - loss: 0.1703 - acc: 0.9599\n",
      "Epoch 41/100\n",
      "38/38 [==============================] - 0s 895us/step - loss: 0.2431 - acc: 0.9239\n",
      "Epoch 42/100\n",
      "38/38 [==============================] - 0s 907us/step - loss: 0.1501 - acc: 0.9533\n",
      "Epoch 43/100\n",
      "38/38 [==============================] - 0s 884us/step - loss: 0.2061 - acc: 0.9333\n",
      "Epoch 44/100\n",
      "38/38 [==============================] - 0s 855us/step - loss: 0.1908 - acc: 0.9377\n",
      "Epoch 45/100\n",
      "38/38 [==============================] - 0s 841us/step - loss: 0.1869 - acc: 0.9453\n",
      "Epoch 46/100\n",
      "38/38 [==============================] - 0s 840us/step - loss: 0.2099 - acc: 0.9309\n",
      "Epoch 47/100\n",
      "38/38 [==============================] - 0s 792us/step - loss: 0.1798 - acc: 0.9497\n",
      "Epoch 48/100\n",
      "38/38 [==============================] - 0s 799us/step - loss: 0.1724 - acc: 0.9375\n",
      "Epoch 49/100\n",
      "38/38 [==============================] - 0s 817us/step - loss: 0.2374 - acc: 0.9249\n",
      "Epoch 50/100\n",
      "38/38 [==============================] - 0s 874us/step - loss: 0.2363 - acc: 0.9186\n",
      "Epoch 51/100\n",
      "38/38 [==============================] - 0s 896us/step - loss: 0.1692 - acc: 0.9409\n",
      "Epoch 52/100\n",
      "38/38 [==============================] - 0s 877us/step - loss: 0.1053 - acc: 0.9742\n",
      "Epoch 53/100\n",
      "38/38 [==============================] - 0s 906us/step - loss: 0.1217 - acc: 0.9604\n",
      "Epoch 54/100\n",
      "38/38 [==============================] - 0s 878us/step - loss: 0.0865 - acc: 0.9813\n",
      "Epoch 55/100\n",
      "38/38 [==============================] - 0s 880us/step - loss: 0.0649 - acc: 0.9851\n",
      "Epoch 56/100\n",
      "38/38 [==============================] - 0s 897us/step - loss: 0.1339 - acc: 0.9497\n",
      "Epoch 57/100\n",
      "38/38 [==============================] - 0s 861us/step - loss: 0.1335 - acc: 0.9649\n",
      "Epoch 58/100\n",
      "38/38 [==============================] - 0s 870us/step - loss: 0.1325 - acc: 0.9530\n",
      "Epoch 59/100\n",
      "38/38 [==============================] - 0s 868us/step - loss: 0.1232 - acc: 0.9686\n",
      "Epoch 60/100\n",
      "38/38 [==============================] - 0s 860us/step - loss: 0.1169 - acc: 0.9679\n",
      "Epoch 61/100\n",
      "38/38 [==============================] - 0s 858us/step - loss: 0.1172 - acc: 0.9575\n",
      "Epoch 62/100\n",
      "38/38 [==============================] - 0s 872us/step - loss: 0.0912 - acc: 0.9790\n",
      "Epoch 63/100\n",
      "38/38 [==============================] - 0s 866us/step - loss: 0.1004 - acc: 0.9741\n",
      "Epoch 64/100\n",
      "38/38 [==============================] - 0s 889us/step - loss: 0.1078 - acc: 0.9671\n",
      "Epoch 65/100\n",
      "38/38 [==============================] - 0s 877us/step - loss: 0.0841 - acc: 0.9717\n",
      "Epoch 66/100\n",
      "38/38 [==============================] - 0s 877us/step - loss: 0.0748 - acc: 0.9786\n",
      "Epoch 67/100\n",
      "38/38 [==============================] - 0s 859us/step - loss: 0.0735 - acc: 0.9784\n",
      "Epoch 68/100\n",
      "38/38 [==============================] - 0s 848us/step - loss: 0.0394 - acc: 0.9929\n",
      "Epoch 69/100\n",
      "38/38 [==============================] - 0s 877us/step - loss: 0.0530 - acc: 0.9859\n",
      "Epoch 70/100\n",
      "38/38 [==============================] - 0s 902us/step - loss: 0.0487 - acc: 0.9801\n",
      "Epoch 71/100\n",
      "38/38 [==============================] - 0s 873us/step - loss: 0.0393 - acc: 0.9919\n",
      "Epoch 72/100\n",
      "38/38 [==============================] - 0s 864us/step - loss: 0.2121 - acc: 0.9306\n",
      "Epoch 73/100\n",
      "38/38 [==============================] - 0s 865us/step - loss: 0.1938 - acc: 0.9309\n",
      "Epoch 74/100\n",
      "38/38 [==============================] - 0s 864us/step - loss: 0.2093 - acc: 0.9474\n",
      "Epoch 75/100\n",
      "38/38 [==============================] - 0s 880us/step - loss: 0.1106 - acc: 0.9621\n",
      "Epoch 76/100\n",
      "38/38 [==============================] - 0s 886us/step - loss: 0.0392 - acc: 0.9901\n",
      "Epoch 77/100\n",
      "38/38 [==============================] - 0s 874us/step - loss: 0.0498 - acc: 0.9935\n",
      "Epoch 78/100\n",
      "38/38 [==============================] - 0s 870us/step - loss: 0.0488 - acc: 0.9857\n",
      "Epoch 79/100\n",
      "38/38 [==============================] - 0s 855us/step - loss: 0.0573 - acc: 0.9809\n",
      "Epoch 80/100\n",
      "38/38 [==============================] - 0s 903us/step - loss: 0.0242 - acc: 0.9948\n",
      "Epoch 81/100\n",
      "38/38 [==============================] - 0s 879us/step - loss: 0.0683 - acc: 0.9818\n",
      "Epoch 82/100\n",
      "38/38 [==============================] - 0s 871us/step - loss: 0.0563 - acc: 0.9871\n",
      "Epoch 83/100\n",
      "38/38 [==============================] - 0s 845us/step - loss: 0.0442 - acc: 0.9903\n",
      "Epoch 84/100\n",
      "38/38 [==============================] - 0s 821us/step - loss: 0.0604 - acc: 0.9795\n",
      "Epoch 85/100\n"
     ]
    },
    {
     "name": "stdout",
     "output_type": "stream",
     "text": [
      "38/38 [==============================] - 0s 812us/step - loss: 0.0569 - acc: 0.9852\n",
      "Epoch 86/100\n",
      "38/38 [==============================] - 0s 879us/step - loss: 0.0767 - acc: 0.9729\n",
      "Epoch 87/100\n",
      "38/38 [==============================] - 0s 883us/step - loss: 0.0885 - acc: 0.9740\n",
      "Epoch 88/100\n",
      "38/38 [==============================] - 0s 882us/step - loss: 0.0519 - acc: 0.9851\n",
      "Epoch 89/100\n",
      "38/38 [==============================] - 0s 859us/step - loss: 0.0291 - acc: 0.9950\n",
      "Epoch 90/100\n",
      "38/38 [==============================] - 0s 843us/step - loss: 0.0459 - acc: 0.9914\n",
      "Epoch 91/100\n",
      "38/38 [==============================] - 0s 870us/step - loss: 0.0103 - acc: 0.9998\n",
      "Epoch 92/100\n",
      "38/38 [==============================] - 0s 852us/step - loss: 0.0136 - acc: 0.9991\n",
      "Epoch 93/100\n",
      "38/38 [==============================] - 0s 856us/step - loss: 0.0331 - acc: 0.9919\n",
      "Epoch 94/100\n",
      "38/38 [==============================] - 0s 858us/step - loss: 0.0220 - acc: 0.9920\n",
      "Epoch 95/100\n",
      "38/38 [==============================] - 0s 875us/step - loss: 0.0133 - acc: 0.9952\n",
      "Epoch 96/100\n",
      "38/38 [==============================] - 0s 867us/step - loss: 0.0211 - acc: 0.9919\n",
      "Epoch 97/100\n",
      "38/38 [==============================] - 0s 858us/step - loss: 0.0183 - acc: 0.9964\n",
      "Epoch 98/100\n",
      "38/38 [==============================] - 0s 870us/step - loss: 0.0431 - acc: 0.9865\n",
      "Epoch 99/100\n",
      "38/38 [==============================] - 0s 898us/step - loss: 0.0159 - acc: 0.9961\n",
      "Epoch 100/100\n",
      "38/38 [==============================] - 0s 857us/step - loss: 0.0726 - acc: 0.9867\n"
     ]
    },
    {
     "data": {
      "text/plain": [
       "<tensorflow.python.keras.callbacks.History at 0x15bc52750>"
      ]
     },
     "execution_count": 44,
     "metadata": {},
     "output_type": "execute_result"
    }
   ],
   "source": [
    "model.fit(angle, encoded_label, epochs=100)"
   ]
  },
  {
   "cell_type": "code",
   "execution_count": 45,
   "metadata": {},
   "outputs": [],
   "source": [
    "model.save('model.h5')"
   ]
  },
  {
   "cell_type": "code",
   "execution_count": null,
   "metadata": {},
   "outputs": [],
   "source": []
  }
 ],
 "metadata": {
  "kernelspec": {
   "display_name": "Python 3",
   "language": "python",
   "name": "python3"
  },
  "language_info": {
   "codemirror_mode": {
    "name": "ipython",
    "version": 3
   },
   "file_extension": ".py",
   "mimetype": "text/x-python",
   "name": "python",
   "nbconvert_exporter": "python",
   "pygments_lexer": "ipython3",
   "version": "3.7.9"
  }
 },
 "nbformat": 4,
 "nbformat_minor": 4
}
